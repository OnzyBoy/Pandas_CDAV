{
  "nbformat": 4,
  "nbformat_minor": 0,
  "metadata": {
    "colab": {
      "provenance": [],
      "authorship_tag": "ABX9TyMrndLjesPNSDHC6Kjmgj69",
      "include_colab_link": true
    },
    "kernelspec": {
      "name": "python3",
      "display_name": "Python 3"
    },
    "language_info": {
      "name": "python"
    }
  },
  "cells": [
    {
      "cell_type": "markdown",
      "metadata": {
        "id": "view-in-github",
        "colab_type": "text"
      },
      "source": [
        "<a href=\"https://colab.research.google.com/github/OnzyBoy/Pandas_CDAV/blob/main/2_CDAV_pandas_CSV.ipynb\" target=\"_parent\"><img src=\"https://colab.research.google.com/assets/colab-badge.svg\" alt=\"Open In Colab\"/></a>"
      ]
    },
    {
      "cell_type": "markdown",
      "source": [
        "#CSV Pandas Handling"
      ],
      "metadata": {
        "id": "HkzOb8ujjJdu"
      }
    },
    {
      "cell_type": "code",
      "source": [
        "#Imports\n",
        "import pandas as pd"
      ],
      "metadata": {
        "id": "j9ppY80DDsm2"
      },
      "execution_count": null,
      "outputs": []
    },
    {
      "cell_type": "code",
      "execution_count": null,
      "metadata": {
        "colab": {
          "base_uri": "https://localhost:8080/"
        },
        "id": "RiqX54RPinfH",
        "outputId": "3a6aac44-6467-4d68-d76c-9ca30164a84a"
      },
      "outputs": [
        {
          "output_type": "stream",
          "name": "stdout",
          "text": [
            "60\n"
          ]
        }
      ],
      "source": [
        "# reading a csv\n",
        "df = pd.read_csv(\"imports.csv\")\n",
        "\n",
        "#Show first 5 rows of the csv file\n",
        "df.head()\n",
        "#Show the last 5 rows\n",
        "df.tail()\n",
        "#Print the whole DF (CSV) file\n",
        "# print(df.to_string())\n",
        "print(pd.options.display.max_rows)\n"
      ]
    },
    {
      "cell_type": "markdown",
      "source": [
        "- Which Month in 2024 had the highest import value?\n",
        "- List the top 3 import countries beside 'Other' in 2023\n",
        "- How much more (%) in import were seen in 2024 compared to 2020?\n",
        "- How much more did we import from UK than Italy in 2023?\n",
        "- Did imports from India increase or decrease in 2022 compared to 2021? And by how much?\n",
        "\n"
      ],
      "metadata": {
        "id": "aqTx0q5npm7N"
      }
    },
    {
      "cell_type": "code",
      "source": [
        "#1. Which Month in 2024 had the highest import value?\n",
        "sorted_df = df.sort_values(by=['Total'], ascending=False)\n",
        "yr_2024_df = sorted_df[sorted_df['Year'] == 2024]\n",
        "yr_2024_df.head(1) #Return the top row\n",
        "top_2024_month = yr_2024_df.iloc[0,1] #To return the month\n",
        "\n",
        "\n",
        "#2. List the top 3 import countries beside 'Other' in 2023\n",
        "cols_to_drop = ['Others','Total']\n",
        "yr_2023 = sorted_df[sorted_df['Year'] == 2023]\n",
        "yr_2023_df = df.drop(columns=cols_to_drop)\n",
        "yr_2023_df = yr_2023_df[yr_2023_df['Year'] == 2023]\n",
        "\n",
        "#Get the sum of all countries\n",
        "country_totals = yr_2023_df.drop(columns=[\"Year\", \"Month\"]).sum()\n",
        "top3_countries = country_totals.sort_values(ascending=False).head(3)\n",
        "print(\"Top 3 countries: \", \", \".join(top3_countries.index))\n",
        "\n",
        "#Percentage proportion compared to total\n",
        "imports_total_2023 = yr_2023.iloc[:,2:-1].sum()\n",
        "total_2023 = top3_countries.sum()\n",
        "\n",
        "#UAE\n",
        "top3_countries.iloc[0] / total_2023 * 100\n",
        "#S.Arabia\n",
        "top3_countries.iloc[1] / total_2023 * 100\n",
        "#India\n",
        "top3_countries.iloc[2] / total_2023 * 100\n",
        "\n",
        "\n",
        "#3. How much more (%) in import were seen in 2024 compared to 2020?\n",
        "yr_2020_df = sorted_df[sorted_df['Year'] == 2020]\n",
        "percent_diff = (yr_2024_df['Total'].sum() - yr_2020_df['Total'].sum()) / yr_2020_df['Total'].sum() * 100\n",
        "print(round(percent_diff,2),\"%\")\n",
        "\n",
        "#4. How much more did we import from UK than Italy in 2023?\n",
        "yr_2023_df = sorted_df[sorted_df['Year'] == 2023]\n",
        "cols_to_drop = ['USA','Germany','UAE','S.Arabia','France','India','S.Africa','Japan','Others','Total','Year','Month']\n",
        "yr_2023_UK_IT = yr_2023_df.drop(columns=cols_to_drop)\n",
        "uk_total = yr_2023_UK_IT['UK'].sum()\n",
        "uk_total\n",
        "italy_total = yr_2023_UK_IT['Italy'].sum()\n",
        "italy_total\n",
        "print(((uk_total-italy_total)/italy_total) *100 )\n",
        "\n",
        "#5 Did imports from India increase or decrease in 2022 compared to 2021? And by how much?\n",
        "yr_2022_df = sorted_df[sorted_df['Year'] == 2022]\n",
        "yr_2021_df = sorted_df[sorted_df['Year'] == 2021]\n",
        "cols_to_drop = ['USA','Germany','UAE','S.Arabia','France','UK','S.Africa','Japan','Others','Total','Year','Month','Italy']\n",
        "yr_2022_df = yr_2022_df.drop(columns=cols_to_drop)\n",
        "yr_2021_df = yr_2021_df.drop(columns=cols_to_drop)\n",
        "india_total_2022 = yr_2022_df['India'].sum()\n",
        "india_total_2021 = yr_2021_df['India'].sum()\n",
        "\n",
        "if india_total_2022 > india_total_2021:\n",
        "  print(\"India increased by\", ((india_total_2022 - india_total_2021) /india_total_2021) * 100, \"%\")\n",
        "else:\n",
        "  print(\"India decreased by\", ((india_total_2021 - india_total_2022)/india_total_2021) * 100, \"%\")"
      ],
      "metadata": {
        "colab": {
          "base_uri": "https://localhost:8080/"
        },
        "id": "MfTSu_KQjcXi",
        "outputId": "b7407512-65a5-4e5a-e1fd-03adf7524a4d"
      },
      "execution_count": null,
      "outputs": [
        {
          "output_type": "stream",
          "name": "stdout",
          "text": [
            "Top 3 countries:  UAE, S.Arabia, India\n",
            "80.52 %\n",
            "86.8588133193258\n",
            "India increased by 8.256233304614744 %\n"
          ]
        }
      ]
    },
    {
      "cell_type": "code",
      "source": [],
      "metadata": {
        "id": "-r_mQwJQ9uyW"
      },
      "execution_count": null,
      "outputs": []
    }
  ]
}