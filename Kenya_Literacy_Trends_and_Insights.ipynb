{
  "nbformat": 4,
  "nbformat_minor": 0,
  "metadata": {
    "colab": {
      "provenance": [],
      "include_colab_link": true
    },
    "kernelspec": {
      "name": "python3",
      "display_name": "Python 3"
    },
    "language_info": {
      "name": "python"
    }
  },
  "cells": [
    {
      "cell_type": "markdown",
      "metadata": {
        "id": "view-in-github",
        "colab_type": "text"
      },
      "source": [
        "<a href=\"https://colab.research.google.com/github/OnzyBoy/Pandas_CDAV/blob/main/Kenya_Literacy_Trends_and_Insights.ipynb\" target=\"_parent\"><img src=\"https://colab.research.google.com/assets/colab-badge.svg\" alt=\"Open In Colab\"/></a>"
      ]
    },
    {
      "cell_type": "code",
      "execution_count": null,
      "metadata": {
        "id": "kL5nnp0M90Dv"
      },
      "outputs": [],
      "source": [
        "import pandas as pd\n",
        "import matplotlib.pyplot as plt #Visualisations\n",
        "import seaborn as sns #Heatmap"
      ]
    },
    {
      "cell_type": "code",
      "source": [
        "#Count Number of Literate people (M/W)\n",
        "df = pd.read_csv(\"literacy_levels_cleaned.csv\")\n",
        "gender_lit_type_count = df.value_counts(\"Indicator\")\n",
        "\n",
        "#Counts per year\n",
        "#2003\n",
        "yr_2003 = df[df['SurveyYear'] == 2003]\n",
        "yr_2003_lit_count = yr_2003.value_counts(\"Indicator\")\n",
        "yr_2003_lit_count\n",
        "\n",
        "#2008\n",
        "yr_2008 = df[df['SurveyYear'] == 2008]\n",
        "yr_2008_lit_count = yr_2008.value_counts(\"Indicator\")\n",
        "yr_2008_lit_count\n",
        "\n",
        "#2014\n",
        "yr_2014 = df[df['SurveyYear'] == 2014]\n",
        "yr_2014_lit_count = yr_2014.value_counts(\"Indicator\")\n",
        "yr_2014_lit_count\n",
        "\n",
        "#2015\n",
        "yr_2015 = df[df['SurveyYear'] == 2015]\n",
        "yr_2015_lit_count = yr_2015.value_counts(\"Indicator\")\n",
        "yr_2015_lit_count\n",
        "\n",
        "#2020\n",
        "yr_2020 = df[df['SurveyYear'] == 2020]\n",
        "yr_2020_lit_count = yr_2020.value_counts(\"Indicator\")\n",
        "yr_2020_lit_count\n",
        "\n",
        "\n",
        "#2022\n",
        "yr_2022 = df[df['SurveyYear'] == 2022]\n",
        "yr_2022_lit_count = yr_2022.value_counts(\"Indicator\")\n",
        "yr_2022_lit_count\n"
      ],
      "metadata": {
        "colab": {
          "base_uri": "https://localhost:8080/",
          "height": 356
        },
        "id": "kKIItcmZ98eQ",
        "outputId": "cbeadc7f-1622-42e3-fb37-2b33ee81ec58"
      },
      "execution_count": null,
      "outputs": [
        {
          "output_type": "error",
          "ename": "FileNotFoundError",
          "evalue": "[Errno 2] No such file or directory: 'literacy_levels_cleaned.csv'",
          "traceback": [
            "\u001b[0;31m---------------------------------------------------------------------------\u001b[0m",
            "\u001b[0;31mFileNotFoundError\u001b[0m                         Traceback (most recent call last)",
            "\u001b[0;32m/tmp/ipython-input-358745429.py\u001b[0m in \u001b[0;36m<cell line: 0>\u001b[0;34m()\u001b[0m\n\u001b[1;32m      1\u001b[0m \u001b[0;31m#Count Number of Literate people (M/W)\u001b[0m\u001b[0;34m\u001b[0m\u001b[0;34m\u001b[0m\u001b[0m\n\u001b[0;32m----> 2\u001b[0;31m \u001b[0mdf\u001b[0m \u001b[0;34m=\u001b[0m \u001b[0mpd\u001b[0m\u001b[0;34m.\u001b[0m\u001b[0mread_csv\u001b[0m\u001b[0;34m(\u001b[0m\u001b[0;34m\"literacy_levels_cleaned.csv\"\u001b[0m\u001b[0;34m)\u001b[0m\u001b[0;34m\u001b[0m\u001b[0;34m\u001b[0m\u001b[0m\n\u001b[0m\u001b[1;32m      3\u001b[0m \u001b[0mgender_lit_type_count\u001b[0m \u001b[0;34m=\u001b[0m \u001b[0mdf\u001b[0m\u001b[0;34m.\u001b[0m\u001b[0mvalue_counts\u001b[0m\u001b[0;34m(\u001b[0m\u001b[0;34m\"Indicator\"\u001b[0m\u001b[0;34m)\u001b[0m\u001b[0;34m\u001b[0m\u001b[0;34m\u001b[0m\u001b[0m\n\u001b[1;32m      4\u001b[0m \u001b[0;34m\u001b[0m\u001b[0m\n\u001b[1;32m      5\u001b[0m \u001b[0;31m#Counts per year\u001b[0m\u001b[0;34m\u001b[0m\u001b[0;34m\u001b[0m\u001b[0m\n",
            "\u001b[0;32m/usr/local/lib/python3.11/dist-packages/pandas/io/parsers/readers.py\u001b[0m in \u001b[0;36mread_csv\u001b[0;34m(filepath_or_buffer, sep, delimiter, header, names, index_col, usecols, dtype, engine, converters, true_values, false_values, skipinitialspace, skiprows, skipfooter, nrows, na_values, keep_default_na, na_filter, verbose, skip_blank_lines, parse_dates, infer_datetime_format, keep_date_col, date_parser, date_format, dayfirst, cache_dates, iterator, chunksize, compression, thousands, decimal, lineterminator, quotechar, quoting, doublequote, escapechar, comment, encoding, encoding_errors, dialect, on_bad_lines, delim_whitespace, low_memory, memory_map, float_precision, storage_options, dtype_backend)\u001b[0m\n\u001b[1;32m   1024\u001b[0m     \u001b[0mkwds\u001b[0m\u001b[0;34m.\u001b[0m\u001b[0mupdate\u001b[0m\u001b[0;34m(\u001b[0m\u001b[0mkwds_defaults\u001b[0m\u001b[0;34m)\u001b[0m\u001b[0;34m\u001b[0m\u001b[0;34m\u001b[0m\u001b[0m\n\u001b[1;32m   1025\u001b[0m \u001b[0;34m\u001b[0m\u001b[0m\n\u001b[0;32m-> 1026\u001b[0;31m     \u001b[0;32mreturn\u001b[0m \u001b[0m_read\u001b[0m\u001b[0;34m(\u001b[0m\u001b[0mfilepath_or_buffer\u001b[0m\u001b[0;34m,\u001b[0m \u001b[0mkwds\u001b[0m\u001b[0;34m)\u001b[0m\u001b[0;34m\u001b[0m\u001b[0;34m\u001b[0m\u001b[0m\n\u001b[0m\u001b[1;32m   1027\u001b[0m \u001b[0;34m\u001b[0m\u001b[0m\n\u001b[1;32m   1028\u001b[0m \u001b[0;34m\u001b[0m\u001b[0m\n",
            "\u001b[0;32m/usr/local/lib/python3.11/dist-packages/pandas/io/parsers/readers.py\u001b[0m in \u001b[0;36m_read\u001b[0;34m(filepath_or_buffer, kwds)\u001b[0m\n\u001b[1;32m    618\u001b[0m \u001b[0;34m\u001b[0m\u001b[0m\n\u001b[1;32m    619\u001b[0m     \u001b[0;31m# Create the parser.\u001b[0m\u001b[0;34m\u001b[0m\u001b[0;34m\u001b[0m\u001b[0m\n\u001b[0;32m--> 620\u001b[0;31m     \u001b[0mparser\u001b[0m \u001b[0;34m=\u001b[0m \u001b[0mTextFileReader\u001b[0m\u001b[0;34m(\u001b[0m\u001b[0mfilepath_or_buffer\u001b[0m\u001b[0;34m,\u001b[0m \u001b[0;34m**\u001b[0m\u001b[0mkwds\u001b[0m\u001b[0;34m)\u001b[0m\u001b[0;34m\u001b[0m\u001b[0;34m\u001b[0m\u001b[0m\n\u001b[0m\u001b[1;32m    621\u001b[0m \u001b[0;34m\u001b[0m\u001b[0m\n\u001b[1;32m    622\u001b[0m     \u001b[0;32mif\u001b[0m \u001b[0mchunksize\u001b[0m \u001b[0;32mor\u001b[0m \u001b[0miterator\u001b[0m\u001b[0;34m:\u001b[0m\u001b[0;34m\u001b[0m\u001b[0;34m\u001b[0m\u001b[0m\n",
            "\u001b[0;32m/usr/local/lib/python3.11/dist-packages/pandas/io/parsers/readers.py\u001b[0m in \u001b[0;36m__init__\u001b[0;34m(self, f, engine, **kwds)\u001b[0m\n\u001b[1;32m   1618\u001b[0m \u001b[0;34m\u001b[0m\u001b[0m\n\u001b[1;32m   1619\u001b[0m         \u001b[0mself\u001b[0m\u001b[0;34m.\u001b[0m\u001b[0mhandles\u001b[0m\u001b[0;34m:\u001b[0m \u001b[0mIOHandles\u001b[0m \u001b[0;34m|\u001b[0m \u001b[0;32mNone\u001b[0m \u001b[0;34m=\u001b[0m \u001b[0;32mNone\u001b[0m\u001b[0;34m\u001b[0m\u001b[0;34m\u001b[0m\u001b[0m\n\u001b[0;32m-> 1620\u001b[0;31m         \u001b[0mself\u001b[0m\u001b[0;34m.\u001b[0m\u001b[0m_engine\u001b[0m \u001b[0;34m=\u001b[0m \u001b[0mself\u001b[0m\u001b[0;34m.\u001b[0m\u001b[0m_make_engine\u001b[0m\u001b[0;34m(\u001b[0m\u001b[0mf\u001b[0m\u001b[0;34m,\u001b[0m \u001b[0mself\u001b[0m\u001b[0;34m.\u001b[0m\u001b[0mengine\u001b[0m\u001b[0;34m)\u001b[0m\u001b[0;34m\u001b[0m\u001b[0;34m\u001b[0m\u001b[0m\n\u001b[0m\u001b[1;32m   1621\u001b[0m \u001b[0;34m\u001b[0m\u001b[0m\n\u001b[1;32m   1622\u001b[0m     \u001b[0;32mdef\u001b[0m \u001b[0mclose\u001b[0m\u001b[0;34m(\u001b[0m\u001b[0mself\u001b[0m\u001b[0;34m)\u001b[0m \u001b[0;34m->\u001b[0m \u001b[0;32mNone\u001b[0m\u001b[0;34m:\u001b[0m\u001b[0;34m\u001b[0m\u001b[0;34m\u001b[0m\u001b[0m\n",
            "\u001b[0;32m/usr/local/lib/python3.11/dist-packages/pandas/io/parsers/readers.py\u001b[0m in \u001b[0;36m_make_engine\u001b[0;34m(self, f, engine)\u001b[0m\n\u001b[1;32m   1878\u001b[0m                 \u001b[0;32mif\u001b[0m \u001b[0;34m\"b\"\u001b[0m \u001b[0;32mnot\u001b[0m \u001b[0;32min\u001b[0m \u001b[0mmode\u001b[0m\u001b[0;34m:\u001b[0m\u001b[0;34m\u001b[0m\u001b[0;34m\u001b[0m\u001b[0m\n\u001b[1;32m   1879\u001b[0m                     \u001b[0mmode\u001b[0m \u001b[0;34m+=\u001b[0m \u001b[0;34m\"b\"\u001b[0m\u001b[0;34m\u001b[0m\u001b[0;34m\u001b[0m\u001b[0m\n\u001b[0;32m-> 1880\u001b[0;31m             self.handles = get_handle(\n\u001b[0m\u001b[1;32m   1881\u001b[0m                 \u001b[0mf\u001b[0m\u001b[0;34m,\u001b[0m\u001b[0;34m\u001b[0m\u001b[0;34m\u001b[0m\u001b[0m\n\u001b[1;32m   1882\u001b[0m                 \u001b[0mmode\u001b[0m\u001b[0;34m,\u001b[0m\u001b[0;34m\u001b[0m\u001b[0;34m\u001b[0m\u001b[0m\n",
            "\u001b[0;32m/usr/local/lib/python3.11/dist-packages/pandas/io/common.py\u001b[0m in \u001b[0;36mget_handle\u001b[0;34m(path_or_buf, mode, encoding, compression, memory_map, is_text, errors, storage_options)\u001b[0m\n\u001b[1;32m    871\u001b[0m         \u001b[0;32mif\u001b[0m \u001b[0mioargs\u001b[0m\u001b[0;34m.\u001b[0m\u001b[0mencoding\u001b[0m \u001b[0;32mand\u001b[0m \u001b[0;34m\"b\"\u001b[0m \u001b[0;32mnot\u001b[0m \u001b[0;32min\u001b[0m \u001b[0mioargs\u001b[0m\u001b[0;34m.\u001b[0m\u001b[0mmode\u001b[0m\u001b[0;34m:\u001b[0m\u001b[0;34m\u001b[0m\u001b[0;34m\u001b[0m\u001b[0m\n\u001b[1;32m    872\u001b[0m             \u001b[0;31m# Encoding\u001b[0m\u001b[0;34m\u001b[0m\u001b[0;34m\u001b[0m\u001b[0m\n\u001b[0;32m--> 873\u001b[0;31m             handle = open(\n\u001b[0m\u001b[1;32m    874\u001b[0m                 \u001b[0mhandle\u001b[0m\u001b[0;34m,\u001b[0m\u001b[0;34m\u001b[0m\u001b[0;34m\u001b[0m\u001b[0m\n\u001b[1;32m    875\u001b[0m                 \u001b[0mioargs\u001b[0m\u001b[0;34m.\u001b[0m\u001b[0mmode\u001b[0m\u001b[0;34m,\u001b[0m\u001b[0;34m\u001b[0m\u001b[0;34m\u001b[0m\u001b[0m\n",
            "\u001b[0;31mFileNotFoundError\u001b[0m: [Errno 2] No such file or directory: 'literacy_levels_cleaned.csv'"
          ]
        }
      ]
    },
    {
      "cell_type": "code",
      "source": [
        "#Output of Men and Women who took lit tests in each year\n",
        "print(f\"Men and Women who took a literature Test in 2003: \\n{yr_2003_lit_count} \\n\")\n",
        "print(f\"Men and Women who took a literature Test in 2008: \\n{yr_2008_lit_count} \\n\")\n",
        "print(f\"Men and Women who took a literature Test in 2014: \\n{yr_2014_lit_count} \\n\")\n",
        "print(f\"Men and Women who took a literature Test in 2015: \\n{yr_2015_lit_count} \\n\")\n",
        "print(f\"Men and Women who took a literature Test in 2020: \\n{yr_2020_lit_count} \\n\")\n",
        "print(f\"Men and Women who took a literature Test in 2022: \\n{yr_2022_lit_count} \\n\")\n",
        "\n",
        "#2015 and 2020 - Only women took the literature tests (*Peak in 2015)\n",
        "\n",
        "# % Share of Each Literacy Category\n",
        "gender_lit_type_pct = (gender_lit_type_count / gender_lit_type_count.sum()) * 100\n",
        "print(gender_lit_type_pct)\n",
        "\n",
        "# each survey collects the same number of entries per category.\n"
      ],
      "metadata": {
        "id": "kd_RrRRl34y4"
      },
      "execution_count": null,
      "outputs": []
    },
    {
      "cell_type": "code",
      "source": [
        "# Plot\n",
        "plt.figure(figsize=(10, 6))\n",
        "bars = gender_lit_type_count.plot(kind=\"bar\", color=\"skyblue\", edgecolor=\"black\")\n",
        "\n",
        "plt.title(\"Distribution of Literacy Categories (Men & Women)\", fontsize=14)\n",
        "plt.ylabel(\"Count\", fontsize=12)\n",
        "plt.xlabel(\"Literacy Category\", fontsize=12)\n",
        "plt.xticks(rotation=90)\n",
        "\n",
        "# Add value labels\n",
        "for i, value in enumerate(gender_lit_type_count):\n",
        "    plt.text(i, value + 0.5, str(value), ha=\"center\", va=\"bottom\", fontsize=9)\n",
        "\n",
        "plt.tight_layout()\n",
        "plt.show()\n",
        "\n"
      ],
      "metadata": {
        "id": "u8KdXXytT6s7"
      },
      "execution_count": null,
      "outputs": []
    },
    {
      "cell_type": "code",
      "source": [
        "# Count values per literacy category for each year\n",
        "lit_counts_per_year = df.groupby([\"SurveyYear\", \"Indicator\"]).size().unstack(fill_value=0)\n",
        "\n",
        "# Plot grouped bar chart\n",
        "ax = lit_counts_per_year.T.plot(kind=\"bar\", figsize=(16, 8), width=0.8)\n",
        "\n",
        "plt.title(\"Distribution of Literacy Categories by Year\", fontsize=16)\n",
        "plt.xlabel(\"Literacy Category\", fontsize=12)\n",
        "plt.ylabel(\"Count\", fontsize=12)\n",
        "plt.xticks(rotation=90)\n",
        "plt.legend(title=\"Survey Year\")\n",
        "plt.grid(axis=\"y\", linestyle=\"--\", alpha=0.7)\n",
        "\n",
        "# Add labels on each bar\n",
        "for container in ax.containers:\n",
        "    ax.bar_label(container, fmt='%d', label_type='edge', fontsize=8)\n",
        "\n",
        "plt.tight_layout()\n",
        "plt.show()"
      ],
      "metadata": {
        "id": "fR-NVzHzUMfU"
      },
      "execution_count": null,
      "outputs": []
    },
    {
      "cell_type": "code",
      "source": [
        "# Filter for only 'Men who are literate' and 'Women who are literate'\n",
        "lit_df = df[df[\"Indicator\"].isin([\"Men who are literate\", \"Women who are literate\"])]\n",
        "\n",
        "# Group by year and gender\n",
        "avg_lit = lit_df.groupby([\"SurveyYear\", \"Indicator\"])[\"Value\"].mean().unstack()\n",
        "\n",
        "# Plot trend\n",
        "ax = avg_lit.plot(kind=\"line\", marker=\"o\", figsize=(10, 6))\n",
        "plt.title(\"Literacy Levels Over Time (Men vs Women)\", fontsize=16)\n",
        "plt.ylabel(\"Average Literacy (%)\", fontsize=12)\n",
        "plt.xlabel(\"Survey Year\", fontsize=12)\n",
        "plt.grid(True, linestyle=\"--\", alpha=0.7)\n",
        "plt.legend(title=\"Gender\")\n",
        "\n",
        "# Add labels on each point\n",
        "for line in ax.lines:\n",
        "    for x, y in zip(line.get_xdata(), line.get_ydata()):\n",
        "        ax.text(x, y + 0.3, f\"{y:.1f}\", ha='center', fontsize=9)\n",
        "\n",
        "plt.show()\n"
      ],
      "metadata": {
        "colab": {
          "base_uri": "https://localhost:8080/",
          "height": 211
        },
        "id": "H0_IXU6PWk8A",
        "outputId": "31db7dfe-67f7-45c2-c2fe-37143791cfcf"
      },
      "execution_count": null,
      "outputs": [
        {
          "output_type": "error",
          "ename": "NameError",
          "evalue": "name 'df' is not defined",
          "traceback": [
            "\u001b[0;31m---------------------------------------------------------------------------\u001b[0m",
            "\u001b[0;31mNameError\u001b[0m                                 Traceback (most recent call last)",
            "\u001b[0;32m/tmp/ipython-input-179643126.py\u001b[0m in \u001b[0;36m<cell line: 0>\u001b[0;34m()\u001b[0m\n\u001b[1;32m      1\u001b[0m \u001b[0;31m# Filter for only 'Men who are literate' and 'Women who are literate'\u001b[0m\u001b[0;34m\u001b[0m\u001b[0;34m\u001b[0m\u001b[0m\n\u001b[0;32m----> 2\u001b[0;31m \u001b[0mlit_df\u001b[0m \u001b[0;34m=\u001b[0m \u001b[0mdf\u001b[0m\u001b[0;34m[\u001b[0m\u001b[0mdf\u001b[0m\u001b[0;34m[\u001b[0m\u001b[0;34m\"Indicator\"\u001b[0m\u001b[0;34m]\u001b[0m\u001b[0;34m.\u001b[0m\u001b[0misin\u001b[0m\u001b[0;34m(\u001b[0m\u001b[0;34m[\u001b[0m\u001b[0;34m\"Men who are literate\"\u001b[0m\u001b[0;34m,\u001b[0m \u001b[0;34m\"Women who are literate\"\u001b[0m\u001b[0;34m]\u001b[0m\u001b[0;34m)\u001b[0m\u001b[0;34m]\u001b[0m\u001b[0;34m\u001b[0m\u001b[0;34m\u001b[0m\u001b[0m\n\u001b[0m\u001b[1;32m      3\u001b[0m \u001b[0;34m\u001b[0m\u001b[0m\n\u001b[1;32m      4\u001b[0m \u001b[0;31m# Group by year and gender\u001b[0m\u001b[0;34m\u001b[0m\u001b[0;34m\u001b[0m\u001b[0m\n\u001b[1;32m      5\u001b[0m \u001b[0mavg_lit\u001b[0m \u001b[0;34m=\u001b[0m \u001b[0mlit_df\u001b[0m\u001b[0;34m.\u001b[0m\u001b[0mgroupby\u001b[0m\u001b[0;34m(\u001b[0m\u001b[0;34m[\u001b[0m\u001b[0;34m\"SurveyYear\"\u001b[0m\u001b[0;34m,\u001b[0m \u001b[0;34m\"Indicator\"\u001b[0m\u001b[0;34m]\u001b[0m\u001b[0;34m)\u001b[0m\u001b[0;34m[\u001b[0m\u001b[0;34m\"Value\"\u001b[0m\u001b[0;34m]\u001b[0m\u001b[0;34m.\u001b[0m\u001b[0mmean\u001b[0m\u001b[0;34m(\u001b[0m\u001b[0;34m)\u001b[0m\u001b[0;34m.\u001b[0m\u001b[0munstack\u001b[0m\u001b[0;34m(\u001b[0m\u001b[0;34m)\u001b[0m\u001b[0;34m\u001b[0m\u001b[0;34m\u001b[0m\u001b[0m\n",
            "\u001b[0;31mNameError\u001b[0m: name 'df' is not defined"
          ]
        }
      ]
    },
    {
      "cell_type": "code",
      "source": [
        "#Men Only for all survey year\n",
        "men_df = df[df[\"Indicator\"].str.contains(r\"\\bMen\\b\", case=False, regex=True)]\n",
        "#Women Only for every survey year\n",
        "women_df = df[df[\"Indicator\"].str.contains(r\"\\bWomen\\b\", case=False, regex=True)]\n",
        "\n",
        "#Group (W) by location\n",
        "location_women = women_df.groupby('Location')['Indicator'].value_counts()\n",
        "#Group (M) by location\n",
        "location_men = men_df.groupby('Location')['Indicator'].value_counts()\n",
        "print(location_men.to_string())\n",
        "location_women\n"
      ],
      "metadata": {
        "id": "N5foefRb89zH"
      },
      "execution_count": null,
      "outputs": []
    },
    {
      "cell_type": "code",
      "source": [
        "#Literacy Level by Location\n",
        "df.groupby(\"Location\")[\"Value\"].mean().sort_values(ascending=False)"
      ],
      "metadata": {
        "colab": {
          "base_uri": "https://localhost:8080/",
          "height": 159
        },
        "id": "_s3Eft1NB53Q",
        "outputId": "28e2a043-c81f-40bf-db25-5fa6f87decdd"
      },
      "execution_count": null,
      "outputs": [
        {
          "output_type": "error",
          "ename": "NameError",
          "evalue": "name 'df' is not defined",
          "traceback": [
            "\u001b[0;31m---------------------------------------------------------------------------\u001b[0m",
            "\u001b[0;31mNameError\u001b[0m                                 Traceback (most recent call last)",
            "\u001b[0;32m/tmp/ipython-input-1158159433.py\u001b[0m in \u001b[0;36m<cell line: 0>\u001b[0;34m()\u001b[0m\n\u001b[1;32m      1\u001b[0m \u001b[0;31m#Literacy Level by Location\u001b[0m\u001b[0;34m\u001b[0m\u001b[0;34m\u001b[0m\u001b[0m\n\u001b[0;32m----> 2\u001b[0;31m \u001b[0mdf\u001b[0m\u001b[0;34m.\u001b[0m\u001b[0mgroupby\u001b[0m\u001b[0;34m(\u001b[0m\u001b[0;34m\"Location\"\u001b[0m\u001b[0;34m)\u001b[0m\u001b[0;34m[\u001b[0m\u001b[0;34m\"Value\"\u001b[0m\u001b[0;34m]\u001b[0m\u001b[0;34m.\u001b[0m\u001b[0mmean\u001b[0m\u001b[0;34m(\u001b[0m\u001b[0;34m)\u001b[0m\u001b[0;34m.\u001b[0m\u001b[0msort_values\u001b[0m\u001b[0;34m(\u001b[0m\u001b[0mascending\u001b[0m\u001b[0;34m=\u001b[0m\u001b[0;32mFalse\u001b[0m\u001b[0;34m)\u001b[0m\u001b[0;34m\u001b[0m\u001b[0;34m\u001b[0m\u001b[0m\n\u001b[0m",
            "\u001b[0;31mNameError\u001b[0m: name 'df' is not defined"
          ]
        }
      ]
    },
    {
      "cell_type": "code",
      "source": [
        "#Average Literacy Levels per survey year\n",
        "avg_per_year = df.groupby(\"SurveyYear\")[\"Value\"].mean()\n",
        "print(\"\\nAverage literacy per year:\\n\", avg_per_year)"
      ],
      "metadata": {
        "id": "MEYKylnsO9Cl"
      },
      "execution_count": null,
      "outputs": []
    },
    {
      "cell_type": "code",
      "source": [
        "# # # Top 3 regions\n",
        "# top_3 = df.groupby([\"Location\",\"SurveyYear\"])[\"Value\"].mean().sort_values(ascending=False).head(3)\n",
        "# print(\"Top 3 regions:\\n\", top_3)\n",
        "\n",
        "# # Bottom 3 regions\n",
        "# bottom_3 = df.groupby([\"Location\",\"SurveyYear\"])[\"Value\"].mean().sort_values().head(3)\n",
        "# print(\"\\nBottom 3 regions:\\n\", bottom_3)"
      ],
      "metadata": {
        "id": "f23n3xY8QWkz"
      },
      "execution_count": null,
      "outputs": []
    },
    {
      "cell_type": "code",
      "source": [
        "#Top 3 regions per survey year\n",
        "top_3_per_year = (\n",
        "    df.groupby(\"SurveyYear\")\n",
        "      .apply(lambda x: x.groupby(\"Location\")[\"Value\"].mean()\n",
        "                        .nlargest(3))\n",
        ")\n",
        "\n",
        "print(\"Top 3 per survey year : \")\n",
        "print(top_3_per_year)\n",
        "\n",
        "# Alt Code\n",
        "avg_per_year = df.groupby([\"SurveyYear\", \"Location\"])[\"Value\"].mean().reset_index()\n",
        "top_3_per_year = avg_per_year.sort_values([\"SurveyYear\", \"Value\"], ascending=[True, False])\n",
        "top_3_per_year = top_3_per_year.groupby(\"SurveyYear\").head(3)\n",
        "\n",
        "# print(\"Top 3 per survey year : \")\n",
        "# print(top_3_per_year)\n",
        "\n",
        "#Bottom 3 regions per survey year\n",
        "# Average literacy per location per year\n",
        "avg_per_year = df.groupby([\"SurveyYear\", \"Location\"])[\"Value\"].mean().reset_index()\n",
        "\n",
        "# Bottom 3 per year\n",
        "bottom_3_per_year_lambda = avg_per_year.groupby(\"SurveyYear\").apply(\n",
        "    lambda g: g.nsmallest(3, \"Value\")\n",
        ").reset_index(drop=True)\n",
        "\n",
        "print(\"Bottom 3 per survey year: \")\n",
        "print(bottom_3_per_year_lambda)\n",
        "\n",
        "#Alt Code\n",
        "# Average literacy per location per year\n",
        "avg_per_year = df.groupby([\"SurveyYear\", \"Location\"])[\"Value\"].mean().reset_index()\n",
        "\n",
        "# Sort by year ascending & value ascending\n",
        "sorted_df = avg_per_year.sort_values([\"SurveyYear\", \"Value\"], ascending=[True, True])\n",
        "\n",
        "# Pick the first 3 of each year\n",
        "bottom_3_per_year_no_lambda = sorted_df.groupby(\"SurveyYear\").head(3)\n",
        "\n",
        "# print(\"Bottom 3 per survey year : \")\n",
        "# print(bottom_3_per_year_no_lambda)"
      ],
      "metadata": {
        "colab": {
          "base_uri": "https://localhost:8080/",
          "height": 211
        },
        "id": "7TGauepOROKc",
        "outputId": "63bdc3e8-6de0-47ef-9757-345bd7883db1"
      },
      "execution_count": null,
      "outputs": [
        {
          "output_type": "error",
          "ename": "NameError",
          "evalue": "name 'df' is not defined",
          "traceback": [
            "\u001b[0;31m---------------------------------------------------------------------------\u001b[0m",
            "\u001b[0;31mNameError\u001b[0m                                 Traceback (most recent call last)",
            "\u001b[0;32m/tmp/ipython-input-743425793.py\u001b[0m in \u001b[0;36m<cell line: 0>\u001b[0;34m()\u001b[0m\n\u001b[1;32m      1\u001b[0m \u001b[0;31m#Top 3 regions per survey year\u001b[0m\u001b[0;34m\u001b[0m\u001b[0;34m\u001b[0m\u001b[0m\n\u001b[1;32m      2\u001b[0m top_3_per_year = (\n\u001b[0;32m----> 3\u001b[0;31m     \u001b[0mdf\u001b[0m\u001b[0;34m.\u001b[0m\u001b[0mgroupby\u001b[0m\u001b[0;34m(\u001b[0m\u001b[0;34m\"SurveyYear\"\u001b[0m\u001b[0;34m)\u001b[0m\u001b[0;34m\u001b[0m\u001b[0;34m\u001b[0m\u001b[0m\n\u001b[0m\u001b[1;32m      4\u001b[0m       .apply(lambda x: x.groupby(\"Location\")[\"Value\"].mean()\n\u001b[1;32m      5\u001b[0m                         .nlargest(3))\n",
            "\u001b[0;31mNameError\u001b[0m: name 'df' is not defined"
          ]
        }
      ]
    },
    {
      "cell_type": "code",
      "source": [
        "#Gender Literacy Gap\n",
        "df['Gender'] = df['Indicator'].str.extract(r'^(Men|Women)')\n",
        "gender_avg = df.groupby(['SurveyYear', 'Gender'])['Value'].mean()\n",
        "print(gender_avg)\n"
      ],
      "metadata": {
        "id": "i4byvkU8RfR_"
      },
      "execution_count": null,
      "outputs": []
    },
    {
      "cell_type": "code",
      "source": [
        "indicator_avg = df.groupby(['SurveyYear', 'Indicator'])['Value'].mean()\n",
        "print(indicator_avg.to_string())\n"
      ],
      "metadata": {
        "id": "l5nP3TZ9SB5S"
      },
      "execution_count": null,
      "outputs": []
    },
    {
      "cell_type": "code",
      "source": [
        "#Location vs Value\n",
        "# One-hot encode locations\n",
        "df_encoded = pd.get_dummies(df[\"Location\"])\n",
        "\n",
        "# Add literacy values\n",
        "df_encoded[\"Value\"] = df[\"Value\"]\n",
        "\n",
        "# Correlation for each location\n",
        "correlation_matrix = df_encoded.corr()[\"Value\"].sort_values(ascending=False)\n",
        "print(correlation_matrix)\n"
      ],
      "metadata": {
        "id": "fNton6M1Ftoq"
      },
      "execution_count": null,
      "outputs": []
    },
    {
      "cell_type": "code",
      "source": [
        "#Literacy vs Time ( Survey Year)\n",
        "\n",
        "yearly_avg = df.groupby(\"SurveyYear\")[\"Value\"].mean().reset_index()\n",
        "\n",
        "# Calculate correlation between year and literacy value\n",
        "year_corr = yearly_avg[\"SurveyYear\"].corr(yearly_avg[\"Value\"])\n",
        "print(\"Correlation between Year and Literacy Value:\", year_corr)\n",
        "\n",
        "print(yearly_avg)\n"
      ],
      "metadata": {
        "id": "bsp0dHC8Or_-"
      },
      "execution_count": null,
      "outputs": []
    },
    {
      "cell_type": "code",
      "source": [
        "# Create a correlation matrix\n",
        "corr_matrix = yearly_avg.corr()\n",
        "\n",
        "# Plot heatmap\n",
        "plt.figure(figsize=(6,4))\n",
        "sns.heatmap(corr_matrix, annot=True, cmap=\"coolwarm\", fmt=\".2f\", cbar=True)\n",
        "plt.title(\"Correlation Heatmap: Year vs Literacy Value\", fontsize=14)\n",
        "plt.show()\n"
      ],
      "metadata": {
        "colab": {
          "base_uri": "https://localhost:8080/",
          "height": 211
        },
        "id": "Nnm761LLyhh4",
        "outputId": "46ba081d-4a50-473a-b65d-4f7fd46d498a"
      },
      "execution_count": null,
      "outputs": [
        {
          "output_type": "error",
          "ename": "NameError",
          "evalue": "name 'yearly_avg' is not defined",
          "traceback": [
            "\u001b[0;31m---------------------------------------------------------------------------\u001b[0m",
            "\u001b[0;31mNameError\u001b[0m                                 Traceback (most recent call last)",
            "\u001b[0;32m/tmp/ipython-input-4237415147.py\u001b[0m in \u001b[0;36m<cell line: 0>\u001b[0;34m()\u001b[0m\n\u001b[1;32m      1\u001b[0m \u001b[0;31m# Create a correlation matrix\u001b[0m\u001b[0;34m\u001b[0m\u001b[0;34m\u001b[0m\u001b[0m\n\u001b[0;32m----> 2\u001b[0;31m \u001b[0mcorr_matrix\u001b[0m \u001b[0;34m=\u001b[0m \u001b[0myearly_avg\u001b[0m\u001b[0;34m.\u001b[0m\u001b[0mcorr\u001b[0m\u001b[0;34m(\u001b[0m\u001b[0;34m)\u001b[0m\u001b[0;34m\u001b[0m\u001b[0;34m\u001b[0m\u001b[0m\n\u001b[0m\u001b[1;32m      3\u001b[0m \u001b[0;34m\u001b[0m\u001b[0m\n\u001b[1;32m      4\u001b[0m \u001b[0;31m# Plot heatmap\u001b[0m\u001b[0;34m\u001b[0m\u001b[0;34m\u001b[0m\u001b[0m\n\u001b[1;32m      5\u001b[0m \u001b[0mplt\u001b[0m\u001b[0;34m.\u001b[0m\u001b[0mfigure\u001b[0m\u001b[0;34m(\u001b[0m\u001b[0mfigsize\u001b[0m\u001b[0;34m=\u001b[0m\u001b[0;34m(\u001b[0m\u001b[0;36m6\u001b[0m\u001b[0;34m,\u001b[0m\u001b[0;36m4\u001b[0m\u001b[0;34m)\u001b[0m\u001b[0;34m)\u001b[0m\u001b[0;34m\u001b[0m\u001b[0;34m\u001b[0m\u001b[0m\n",
            "\u001b[0;31mNameError\u001b[0m: name 'yearly_avg' is not defined"
          ]
        }
      ]
    },
    {
      "cell_type": "code",
      "source": [
        "#Literacy vs Gender\n",
        "# Create gender column from 'Indicator'\n",
        "df['Gender'] = df['Indicator'].apply(lambda x: 'Men' if x.startswith('Men') else 'Women')\n",
        "\n",
        "# Average literacy by gender per survey year\n",
        "gender_avg = df.groupby([\"SurveyYear\", \"Gender\"])[\"Value\"].mean().unstack()\n",
        "\n",
        "print(\"\\nAverage Literacy by Gender per Year:\\n\", gender_avg)\n",
        "\n",
        "# Correlation between men and women literacy across years\n",
        "gender_corr = gender_avg[\"Men\"].corr(gender_avg[\"Women\"])\n",
        "print(\"\\nCorrelation between Men's and Women's literacy levels:\", gender_corr)\n"
      ],
      "metadata": {
        "id": "NBBHSHMUOvHB"
      },
      "execution_count": null,
      "outputs": []
    },
    {
      "cell_type": "code",
      "source": [
        "df.head()"
      ],
      "metadata": {
        "id": "sFxPMdKZQ_Xm"
      },
      "execution_count": null,
      "outputs": []
    },
    {
      "cell_type": "code",
      "source": [
        "df.corr()"
      ],
      "metadata": {
        "id": "PWLpF2OBkg8C"
      },
      "execution_count": null,
      "outputs": []
    },
    {
      "cell_type": "code",
      "source": [],
      "metadata": {
        "id": "01aehELSdg8H"
      },
      "execution_count": null,
      "outputs": []
    }
  ]
}